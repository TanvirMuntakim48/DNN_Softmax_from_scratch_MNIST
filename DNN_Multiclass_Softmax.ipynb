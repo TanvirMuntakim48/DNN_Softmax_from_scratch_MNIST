{
  "nbformat": 4,
  "nbformat_minor": 0,
  "metadata": {
    "colab": {
      "provenance": []
    },
    "kernelspec": {
      "name": "python3",
      "display_name": "Python 3"
    },
    "language_info": {
      "name": "python"
    }
  },
  "cells": [
    {
      "cell_type": "markdown",
      "source": [
        "# MNIST Classification (softmax regression)\n",
        "\n",
        "In this notebook, I implement a Dense Neural Network with softmax regression from scratch on the MNIST Dataset. I also have added L2 regularization in the code\n",
        "\n"
      ],
      "metadata": {
        "id": "UkgH9o41zsJt"
      }
    },
    {
      "cell_type": "code",
      "execution_count": null,
      "metadata": {
        "id": "TBMnpHjqJU7W"
      },
      "outputs": [],
      "source": [
        "import sys\n",
        "import numpy as np\n",
        "import pandas as pd\n",
        "import matplotlib.pyplot as plt\n",
        "import seaborn as sb\n",
        "%matplotlib inline\n",
        "\n",
        "from scipy.io import loadmat\n",
        "from sklearn.metrics import accuracy_score, confusion_matrix, precision_score, recall_score, f1_score\n",
        "from sklearn.model_selection import train_test_split"
      ]
    },
    {
      "cell_type": "code",
      "source": [
        "from google.colab import drive\n",
        "drive.mount('/content/gdrive')"
      ],
      "metadata": {
        "colab": {
          "base_uri": "https://localhost:8080/"
        },
        "id": "m1CiolQCLWwM",
        "outputId": "a99e0d13-507b-46d5-de65-711837673f01"
      },
      "execution_count": null,
      "outputs": [
        {
          "output_type": "stream",
          "name": "stdout",
          "text": [
            "Mounted at /content/gdrive\n"
          ]
        }
      ]
    },
    {
      "cell_type": "code",
      "source": [
        "mnist = loadmat('/content/gdrive/MyDrive/pyhon/mnist-original.mat')\n",
        "# mnist = loadmat('mnist-original.mat')\n",
        "\n",
        "X = mnist['data'] # number of examples placed in row, features in column\n",
        "Y = mnist['label']\n",
        "Y = Y.astype('int')\n",
        "\n",
        "n = X.shape[0]\n",
        "m = Y.shape[1]"
      ],
      "metadata": {
        "id": "0Dr08dc0LYOt"
      },
      "execution_count": null,
      "outputs": []
    },
    {
      "cell_type": "code",
      "source": [
        "print(X.shape, Y.shape)\n",
        "print(f\"The number of training examples: {m}, feature vector length: {n}\")\n",
        "print(Y)\n",
        "\n",
        "img_size = np.sqrt(n).astype('int')\n",
        "print(f\"The image size is: {img_size} x {img_size}\")"
      ],
      "metadata": {
        "colab": {
          "base_uri": "https://localhost:8080/"
        },
        "id": "GRGhHe85LfJa",
        "outputId": "2319d27d-19f6-43ae-bded-19e4ee5ed392"
      },
      "execution_count": null,
      "outputs": [
        {
          "output_type": "stream",
          "name": "stdout",
          "text": [
            "(784, 70000) (1, 70000)\n",
            "The number of training examples: 70000, feature vector length: 784\n",
            "[[0 0 0 ... 9 9 9]]\n",
            "The image size is: 28 x 28\n"
          ]
        }
      ]
    },
    {
      "cell_type": "code",
      "source": [
        "print(mnist)\n",
        "print(f\"X: {X.shape}, Y: {Y.shape}\")\n",
        "\n",
        "print(f\"Examples: {m}, Feature count: {n}\")\n",
        "\n",
        "\n"
      ],
      "metadata": {
        "colab": {
          "base_uri": "https://localhost:8080/"
        },
        "id": "AxR6KSAZLhnq",
        "outputId": "386fdda9-f374-4f0d-d61e-a7da0c945b37"
      },
      "execution_count": null,
      "outputs": [
        {
          "output_type": "stream",
          "name": "stdout",
          "text": [
            "{'__header__': b'MATLAB 5.0 MAT-file Platform: posix, Created on: Sun Mar 30 03:19:02 2014', '__version__': '1.0', '__globals__': [], 'mldata_descr_ordering': array([[array(['label'], dtype='<U5'), array(['data'], dtype='<U4')]],\n",
            "      dtype=object), 'data': array([[0, 0, 0, ..., 0, 0, 0],\n",
            "       [0, 0, 0, ..., 0, 0, 0],\n",
            "       [0, 0, 0, ..., 0, 0, 0],\n",
            "       ...,\n",
            "       [0, 0, 0, ..., 0, 0, 0],\n",
            "       [0, 0, 0, ..., 0, 0, 0],\n",
            "       [0, 0, 0, ..., 0, 0, 0]], dtype=uint8), 'label': array([[0., 0., 0., ..., 9., 9., 9.]])}\n",
            "X: (784, 70000), Y: (1, 70000)\n",
            "Examples: 70000, Feature count: 784\n"
          ]
        }
      ]
    },
    {
      "cell_type": "code",
      "source": [
        "img_size = int(np.sqrt(X.shape[0]))\n",
        "print(f\"The size of the image is {img_size} x {img_size}\")"
      ],
      "metadata": {
        "colab": {
          "base_uri": "https://localhost:8080/"
        },
        "id": "Y_hICbVfLjbr",
        "outputId": "59a9a0cb-d141-4c86-ead6-e02fc94e28fc"
      },
      "execution_count": null,
      "outputs": [
        {
          "output_type": "stream",
          "name": "stdout",
          "text": [
            "The size of the image is 28 x 28\n"
          ]
        }
      ]
    },
    {
      "cell_type": "code",
      "source": [
        "# Converting Y into one hot encoded labels\n",
        "\n",
        "def oneHot(Y):\n",
        "    m = Y.shape[1]\n",
        "    classes = np.max(Y) + 1 # find max value of Y, number of classes should be max + 1, assuming zero indexing\n",
        "    Yhot = np.zeros((classes, m))\n",
        "    for i in range(m):\n",
        "        Yhot[Y[:,i],i] = 1\n",
        "\n",
        "    return Yhot\n"
      ],
      "metadata": {
        "id": "pdNyQa4-LmH8"
      },
      "execution_count": null,
      "outputs": []
    },
    {
      "cell_type": "code",
      "source": [
        "Yhot = oneHot(Y)\n",
        "\n",
        "print(Yhot.shape)"
      ],
      "metadata": {
        "colab": {
          "base_uri": "https://localhost:8080/"
        },
        "id": "RtjQhcoaLn1i",
        "outputId": "64f451b1-495c-48e1-d9af-fe94816ffa99"
      },
      "execution_count": null,
      "outputs": [
        {
          "output_type": "stream",
          "name": "stdout",
          "text": [
            "(10, 70000)\n"
          ]
        }
      ]
    },
    {
      "cell_type": "code",
      "source": [
        "def img_gen(X, Y):\n",
        "    m = X.shape[1]\n",
        "    n = X.shape[0]\n",
        "\n",
        "    img_size = np.sqrt(n).astype('int')\n",
        "    arb = np.random.randint(0, m)\n",
        "    img = X[:,arb].reshape(img_size, img_size)\n",
        "\n",
        "    Yhot = oneHot(Y)\n",
        "\n",
        "    print(f\"The image below is the {arb}th image in the dataset, labeled {Y[:,arb]}, with one hot encoding {Yhot[:,arb]}\")\n",
        "    plt.imshow(img)"
      ],
      "metadata": {
        "id": "HIt2nAtILpeC"
      },
      "execution_count": null,
      "outputs": []
    },
    {
      "cell_type": "code",
      "source": [
        "img_gen(X, Y)"
      ],
      "metadata": {
        "colab": {
          "base_uri": "https://localhost:8080/",
          "height": 447
        },
        "id": "6flDahQHMlor",
        "outputId": "a10ad788-154e-4547-b9b4-76d4d2fff7f8"
      },
      "execution_count": null,
      "outputs": [
        {
          "output_type": "stream",
          "name": "stdout",
          "text": [
            "The image below is the 24023th image in the dataset, labeled [3], with one hot encoding [0. 0. 0. 1. 0. 0. 0. 0. 0. 0.]\n"
          ]
        },
        {
          "output_type": "display_data",
          "data": {
            "text/plain": [
              "<Figure size 640x480 with 1 Axes>"
            ],
            "image/png": "[encoded data removed]"
          },
          "metadata": {}
        }
      ]
    },
    {
      "cell_type": "code",
      "source": [
        "# creating a normalization function\n",
        "\n",
        "def normalize(data):\n",
        "    # normalizing along rows because each column may have all zeros, i.e, black pixels in the edges of every image.\n",
        "    mean = np.mean(data, axis=0, keepdims=True)\n",
        "    std = np.std(data, axis=0, keepdims=True)\n",
        "    data_normalized = (data - mean)/std\n",
        "\n",
        "    # norms = np.linalg.norm(data_normalized, axis = 1)\n",
        "    # max_norm = norms.max()\n",
        "    # data_normalized = data_normalized / max_norm\n",
        "    return data_normalized"
      ],
      "metadata": {
        "id": "9ERJeuwmMnSC"
      },
      "execution_count": null,
      "outputs": []
    },
    {
      "cell_type": "code",
      "source": [
        "X_norm = normalize(X)\n",
        "\n",
        "print(np.linalg.norm(X_norm, axis = 0).max()) # sanity check"
      ],
      "metadata": {
        "colab": {
          "base_uri": "https://localhost:8080/"
        },
        "id": "kObj_cLFNQda",
        "outputId": "791b7c11-b28d-483d-ee9c-8a7ed45ad2ec"
      },
      "execution_count": null,
      "outputs": [
        {
          "output_type": "stream",
          "name": "stdout",
          "text": [
            "28.00000000000001\n"
          ]
        }
      ]
    },
    {
      "cell_type": "code",
      "source": [
        "# Split to train and test\n",
        "\n",
        "X_train, X_test, Y_train, Y_test = train_test_split(X_norm.T, Y.T, test_size=0.20, random_state=42)\n",
        "Y_train = Y_train.reshape(-1,1).T\n",
        "Y_test = Y_test.reshape(-1,1).T\n",
        "X_train = X_train.T\n",
        "X_test = X_test.T\n",
        "\n",
        "print(\"The shape of the training set feature matrix is:\", X_train.shape)\n",
        "print(\"The shape of the training label vector is:\", Y_train.shape)\n",
        "print(\"The shape of the test set feature matrix is:\", X_test.shape)\n",
        "print(\"The shape of the test label vector is:\", Y_test.shape)\n",
        "\n",
        "print(np.sum((Y_train==0).astype(int)))\n",
        "print(np.sum((Y_test==0).astype(int)))"
      ],
      "metadata": {
        "colab": {
          "base_uri": "https://localhost:8080/"
        },
        "id": "OELYbZkrNSKj",
        "outputId": "10e6cd3e-3c04-4820-aeea-3be86e17442a"
      },
      "execution_count": null,
      "outputs": [
        {
          "output_type": "stream",
          "name": "stdout",
          "text": [
            "The shape of the training set feature matrix is: (784, 56000)\n",
            "The shape of the training label vector is: (1, 56000)\n",
            "The shape of the test set feature matrix is: (784, 14000)\n",
            "The shape of the test label vector is: (1, 14000)\n",
            "5554\n",
            "1349\n"
          ]
        }
      ]
    },
    {
      "cell_type": "code",
      "source": [
        "img_gen(X_train,Y_train)"
      ],
      "metadata": {
        "colab": {
          "base_uri": "https://localhost:8080/",
          "height": 447
        },
        "id": "k0QpdnoCNXda",
        "outputId": "d9bb4366-8f18-482c-c0a7-6283f0e40d8d"
      },
      "execution_count": null,
      "outputs": [
        {
          "output_type": "stream",
          "name": "stdout",
          "text": [
            "The image below is the 51972th image in the dataset, labeled [6], with one hot encoding [0. 0. 0. 0. 0. 0. 1. 0. 0. 0.]\n"
          ]
        },
        {
          "output_type": "display_data",
          "data": {
            "text/plain": [
              "<Figure size 640x480 with 1 Axes>"
            ],
            "image/png": "[encoded data removed]"
          },
          "metadata": {}
        }
      ]
    },
    {
      "cell_type": "code",
      "source": [
        "img_gen(X_test,Y_test)\n"
      ],
      "metadata": {
        "colab": {
          "base_uri": "https://localhost:8080/",
          "height": 447
        },
        "id": "zdelyPmGNtIy",
        "outputId": "1540d36b-eaf8-4570-d9ca-3b97b76a7833"
      },
      "execution_count": null,
      "outputs": [
        {
          "output_type": "stream",
          "name": "stdout",
          "text": [
            "The image below is the 7629th image in the dataset, labeled [1], with one hot encoding [0. 1. 0. 0. 0. 0. 0. 0. 0. 0.]\n"
          ]
        },
        {
          "output_type": "display_data",
          "data": {
            "text/plain": [
              "<Figure size 640x480 with 1 Axes>"
            ],
            "image/png": "[encoded data removed]"
          },
          "metadata": {}
        }
      ]
    },
    {
      "cell_type": "code",
      "source": [
        "def sigmoid(Z):\n",
        "    A = 1 / (1 + np.exp(-Z))\n",
        "    cache = Z\n",
        "    return A, cache\n",
        "\n",
        "def relu(Z):\n",
        "    A = np.maximum(0, Z)\n",
        "    cache = Z\n",
        "    return A, cache\n",
        "\n",
        "\n",
        "def sigmoid_backward(dA, cache):\n",
        "    Z = cache\n",
        "\n",
        "    a, _ = sigmoid(Z)\n",
        "\n",
        "    dZ = dA * a * (1 - a)\n",
        "\n",
        "    return dZ\n",
        "\n",
        "def relu_backward(dA, cache):\n",
        "    Z = cache\n",
        "\n",
        "    dZ = np.array(dA, copy = True)\n",
        "    dZ[Z <= 0] = 0\n",
        "\n",
        "    return dZ"
      ],
      "metadata": {
        "id": "86qA_RZYNwca"
      },
      "execution_count": null,
      "outputs": []
    },
    {
      "cell_type": "code",
      "source": [
        "a = np.array([1,2,3,4,5,6]).reshape(-1,1)\n",
        "b = np.array([3,6,5,13,2,-1]).reshape(-1,1)\n",
        "c = a.reshape(-1)\n",
        "print(np.dot(a,b.T))\n",
        "print(np.dot(a.T,b))\n",
        "print(np.diag(c))"
      ],
      "metadata": {
        "colab": {
          "base_uri": "https://localhost:8080/"
        },
        "id": "ntG6X-4XbtfJ",
        "outputId": "a7cc438f-5795-407b-d4e1-7b41716fbcc6"
      },
      "execution_count": null,
      "outputs": [
        {
          "output_type": "stream",
          "name": "stdout",
          "text": [
            "[[ 3  6  5 13  2 -1]\n",
            " [ 6 12 10 26  4 -2]\n",
            " [ 9 18 15 39  6 -3]\n",
            " [12 24 20 52  8 -4]\n",
            " [15 30 25 65 10 -5]\n",
            " [18 36 30 78 12 -6]]\n",
            "[[86]]\n",
            "[[1 0 0 0 0 0]\n",
            " [0 2 0 0 0 0]\n",
            " [0 0 3 0 0 0]\n",
            " [0 0 0 4 0 0]\n",
            " [0 0 0 0 5 0]\n",
            " [0 0 0 0 0 6]]\n"
          ]
        }
      ]
    },
    {
      "cell_type": "code",
      "source": [
        "def softmax(Z):\n",
        "    arb = np.exp(Z)\n",
        "    A = arb / np.sum(arb, axis = 0, keepdims = True)\n",
        "    cache = Z\n",
        "    return A, cache\n",
        "\n",
        "# Won't need this for now, the jacobian for multiple examples becomes kinda complicated, not sure what to do here\n",
        "\n",
        "# def softmax_backward(dA, cache):\n",
        "#     Z = cache\n",
        "#     arb = -np.dot(Z, Z.T)\n",
        "#     jacobian = np.diag(Z.reshape(-1)) + arb\n",
        "\n"
      ],
      "metadata": {
        "id": "OXhaQKmkPloa"
      },
      "execution_count": null,
      "outputs": []
    },
    {
      "cell_type": "code",
      "source": [
        "def initialize_weights(layer_dims):\n",
        "\n",
        "    weights = {}\n",
        "    L = len(layer_dims)\n",
        "\n",
        "    for l in range(1,L):\n",
        "        weights['W'+str(l)] = np.random.randn(layer_dims[l],layer_dims[l-1]) / np.sqrt(layer_dims[l-1]) # * 0.01 # The initialization with * 0.01 doesnt seem to converge for cat classification, but / np.sqrt() does very quickly\n",
        "        weights['b'+str(l)] = np.zeros((layer_dims[l],1))\n",
        "        # weights['b'+str(l)] = np.random.randn(layer_dims[l],1) # random initialization on biases, not used for now\n",
        "\n",
        "    return weights\n"
      ],
      "metadata": {
        "id": "0n-y2zCoOg5y"
      },
      "execution_count": null,
      "outputs": []
    },
    {
      "cell_type": "code",
      "source": [
        "def forward_linear(A, W, b):\n",
        "\n",
        "    Z = np.dot(W, A) + b\n",
        "    cache = (A, W, b)\n",
        "\n",
        "    return Z, cache"
      ],
      "metadata": {
        "id": "cGMCskF9OhjS"
      },
      "execution_count": null,
      "outputs": []
    },
    {
      "cell_type": "code",
      "source": [
        "def forward_activation(A_prev, W, b, activation):\n",
        "\n",
        "    Z, linear_cache = forward_linear(A_prev, W, b)\n",
        "\n",
        "    if activation == 'relu':\n",
        "        A, activation_cache = relu(Z)\n",
        "    elif activation == 'sigmoid':\n",
        "        A, activation_cache = sigmoid(Z)\n",
        "    elif activation == 'softmax':\n",
        "        A, activation_cache = softmax(Z)\n",
        "\n",
        "    cache = (linear_cache, activation_cache)\n",
        "\n",
        "    return A, cache"
      ],
      "metadata": {
        "id": "7G8KNl4-Ojji"
      },
      "execution_count": null,
      "outputs": []
    },
    {
      "cell_type": "code",
      "source": [
        "def forward_propagation(X, weights):\n",
        "    caches = []\n",
        "    A = X\n",
        "    L = len(weights) // 2 # number of layers in the neural network\n",
        "\n",
        "    for l in range(1,L):\n",
        "        A_prev = A\n",
        "        A, cache = forward_activation(A_prev, weights['W'+str(l)], weights['b'+str(l)], 'relu')\n",
        "        caches.append(cache)\n",
        "\n",
        "    AL, cache = forward_activation(A, weights['W'+str(L)], weights['b'+str(L)], 'softmax')\n",
        "    caches.append(cache)\n",
        "\n",
        "    return AL, caches"
      ],
      "metadata": {
        "id": "i6keLxEJOoMp"
      },
      "execution_count": null,
      "outputs": []
    },
    {
      "cell_type": "code",
      "source": [
        "def compute_cost(AL, Y, weights, lam):\n",
        "\n",
        "    Yhot = oneHot(Y)\n",
        "    classes = Yhot.shape[0]\n",
        "    cost = 0\n",
        "\n",
        "    W_sum = 0\n",
        "\n",
        "    L = len(weights) // 2\n",
        "    m = Y.shape[1]\n",
        "\n",
        "    for l in range(L):\n",
        "        W_sum = W_sum + np.sum(weights['W'+str(l+1)]**2)\n",
        "\n",
        "    cost = (-1/m) * np.sum(Yhot * np.log(AL)) + (lam / (2 * m)) * W_sum\n",
        "\n",
        "    return cost"
      ],
      "metadata": {
        "id": "D51KdCRodSxh"
      },
      "execution_count": null,
      "outputs": []
    },
    {
      "cell_type": "code",
      "source": [
        "classes = Y.shape[0]\n",
        "lam = 0\n",
        "layer_dims = [n, 25, classes]\n",
        "\n",
        "weights = initialize_weights(layer_dims)\n",
        "AL, _ = forward_propagation(X_norm, weights)\n",
        "print(AL.shape)\n",
        "cost = compute_cost(AL, Y.T, weights, lam)\n",
        "\n",
        "print(cost)"
      ],
      "metadata": {
        "colab": {
          "base_uri": "https://localhost:8080/"
        },
        "id": "l4Q_6ED3esoY",
        "outputId": "9d20561d-ffc9-4213-b814-24e56252109c"
      },
      "execution_count": null,
      "outputs": [
        {
          "output_type": "stream",
          "name": "stdout",
          "text": [
            "(1, 70000)\n",
            "0.0\n"
          ]
        }
      ]
    },
    {
      "cell_type": "code",
      "source": [
        "def linear_backward(dZ, cache, lam):\n",
        "    A_prev, W, b = cache\n",
        "    m = A_prev.shape[1]\n",
        "\n",
        "    dW = np.dot(dZ, A_prev.T) / m + (lam / m) * W\n",
        "    db = np.sum(dZ, axis = 1, keepdims = True) / m\n",
        "    dA_prev = np.dot(W.T, dZ)\n",
        "\n",
        "    return dA_prev, dW, db\n",
        "\n",
        "\n",
        "def activation_backward(dA, cache, activation, lam):\n",
        "    linear_cache, activation_cache = cache\n",
        "\n",
        "    if activation == 'relu':\n",
        "        dZ = relu_backward(dA, activation_cache)\n",
        "    elif activation == 'sigmoid':\n",
        "        dZ = sigmoid_backward(dA, activation_cache)\n",
        "\n",
        "    dA_prev, dW, db = linear_backward(dZ, linear_cache, lam)\n",
        "\n",
        "    return dA_prev, dW, db\n",
        "\n",
        "\n",
        "def backward_propagation(AL, Y, caches, lam):\n",
        "    L = len(caches) # number of layers of the neural network\n",
        "    grads = {}\n",
        "    Yhot = oneHot(Y)\n",
        "\n",
        "    cache = caches[L-1]\n",
        "    linear_cache, activation_cache = cache # softmax layer cache\n",
        "    Z = activation_cache\n",
        "    S, _ = softmax(Z)\n",
        "    dZ = S - Yhot\n",
        "    dA_prev, grads['dW'+str(L)], grads['db'+str(L)] = linear_backward(dZ, linear_cache, lam)\n",
        "\n",
        "    for l in reversed(range(L-1)):\n",
        "        dA = dA_prev\n",
        "        dA_prev, grads['dW'+str(l+1)], grads['db'+str(l+1)] = activation_backward(dA, caches[l], 'relu', lam)\n",
        "\n",
        "    return grads\n",
        "\n",
        "\n"
      ],
      "metadata": {
        "id": "W9ZLuaIae6EZ"
      },
      "execution_count": null,
      "outputs": []
    },
    {
      "cell_type": "code",
      "source": [
        "for i in range(1,2):\n",
        "    print(f\"Hello {i}\")"
      ],
      "metadata": {
        "colab": {
          "base_uri": "https://localhost:8080/"
        },
        "id": "1lT5zoyCh2ap",
        "outputId": "39574dc1-cc44-46b7-b77d-c0e10bf4067e"
      },
      "execution_count": null,
      "outputs": [
        {
          "output_type": "stream",
          "name": "stdout",
          "text": [
            "Hello 1\n"
          ]
        }
      ]
    },
    {
      "cell_type": "code",
      "source": [
        "def update_weights(weights, grads, learning_rate):\n",
        "    L = len(weights) // 2\n",
        "    for l in range(L):\n",
        "        weights['W'+str(l+1)] = weights['W'+str(l+1)] - learning_rate * grads['dW'+str(l+1)]\n",
        "        weights['b'+str(l+1)] = weights['b'+str(l+1)] - learning_rate * grads['db'+str(l+1)]\n",
        "\n",
        "    return weights\n"
      ],
      "metadata": {
        "id": "iEmXoiIOh4Tf"
      },
      "execution_count": null,
      "outputs": []
    },
    {
      "cell_type": "code",
      "source": [
        "def predict(X, weights):\n",
        "    AL, _ = forward_propagation(X, weights)\n",
        "    predictions = np.argmax(AL, axis = 0, keepdims = True)\n",
        "\n",
        "    return predictions"
      ],
      "metadata": {
        "id": "L7aykSW5kpqY"
      },
      "execution_count": null,
      "outputs": []
    },
    {
      "cell_type": "code",
      "source": [
        "def NN_model(X, Y, layer_dims, learning_rate, iterations, lam):\n",
        "    weights = {}\n",
        "    caches = []\n",
        "    cost_history = []\n",
        "    weights = initialize_weights(layer_dims)\n",
        "\n",
        "    for i in range(iterations):\n",
        "        AL, caches = forward_propagation(X, weights)\n",
        "        grads = backward_propagation(AL, Y, caches, lam)\n",
        "        weights = update_weights(weights, grads, learning_rate)\n",
        "\n",
        "        # print(AL.shape)\n",
        "\n",
        "        cost = compute_cost(AL, Y, weights, lam)\n",
        "        cost_history.append(cost)\n",
        "\n",
        "        if i % 100 == 0:\n",
        "            print(f\"The cost in the {i}th iteration is: {cost}\")\n",
        "            p = predict(X, weights)\n",
        "            print(p.shape)\n",
        "            acc = accuracy_score(Y.reshape(-1), p.reshape(-1))\n",
        "            print(f\"The accuracy score: {acc*100} %\")\n",
        "\n",
        "\n",
        "    cost = compute_cost(AL, Y, weights, lam)\n",
        "    cost_history.append(cost)\n",
        "\n",
        "    plt.plot(cost_history)\n",
        "    plt.xlabel('number of iterations')\n",
        "    plt.ylabel('Cost')\n",
        "\n",
        "    return weights\n"
      ],
      "metadata": {
        "id": "dNF4lCD4k509"
      },
      "execution_count": null,
      "outputs": []
    },
    {
      "cell_type": "code",
      "source": [
        "print(\"The shape of the training set feature matrix is:\", X_train.shape)\n",
        "print(\"The shape of the training label vector is:\", Y_train.shape)\n",
        "print(\"The shape of the test set feature matrix is:\", X_test.shape)\n",
        "print(\"The shape of the test label vector is:\", Y_test.shape)\n",
        "\n",
        "classes = np.max(Y_train)+1\n",
        "\n",
        "print(\"The number of classes is:\",classes)"
      ],
      "metadata": {
        "colab": {
          "base_uri": "https://localhost:8080/"
        },
        "id": "EheQQW3tloKf",
        "outputId": "897bd239-c77b-45f0-9558-2182a8ec30c3"
      },
      "execution_count": null,
      "outputs": [
        {
          "output_type": "stream",
          "name": "stdout",
          "text": [
            "The shape of the training set feature matrix is: (784, 56000)\n",
            "The shape of the training label vector is: (1, 56000)\n",
            "The shape of the test set feature matrix is: (784, 14000)\n",
            "The shape of the test label vector is: (1, 14000)\n",
            "The number of classes is: 10\n"
          ]
        }
      ]
    },
    {
      "cell_type": "code",
      "source": [
        "# Running the neural network on our dataset\n",
        "from sklearn.metrics import confusion_matrix\n",
        "\n",
        "layer_dims = [n, 100, 100, classes]\n",
        "\n",
        "weights = NN_model(X_train, Y_train, layer_dims, learning_rate = 0.03, iterations = 1000, lam = 1)\n",
        "\n"
      ],
      "metadata": {
        "colab": {
          "base_uri": "https://localhost:8080/",
          "height": 1000
        },
        "id": "q05KUrlVlkMw",
        "outputId": "64d83493-6e4b-440e-a0b3-b1692c835a2c"
      },
      "execution_count": null,
      "outputs": [
        {
          "output_type": "stream",
          "name": "stdout",
          "text": [
            "The cost in the 0th iteration is: 2.385709812319184\n",
            "(1, 56000)\n",
            "The accuracy score: 18.61785714285714 %\n",
            "The cost in the 10th iteration is: 1.7456555785630332\n",
            "(1, 56000)\n",
            "The accuracy score: 56.987500000000004 %\n",
            "The cost in the 20th iteration is: 1.2362098328265327\n",
            "(1, 56000)\n",
            "The accuracy score: 73.68928571428572 %\n",
            "The cost in the 30th iteration is: 0.9042204765220055\n",
            "(1, 56000)\n",
            "The accuracy score: 80.28214285714286 %\n",
            "The cost in the 40th iteration is: 0.7215922155897363\n",
            "(1, 56000)\n",
            "The accuracy score: 83.34107142857144 %\n",
            "The cost in the 50th iteration is: 0.6157029852766568\n",
            "(1, 56000)\n",
            "The accuracy score: 84.92857142857143 %\n",
            "The cost in the 60th iteration is: 0.5485134139186819\n",
            "(1, 56000)\n",
            "The accuracy score: 86.06071428571428 %\n",
            "The cost in the 70th iteration is: 0.50250742855711\n",
            "(1, 56000)\n",
            "The accuracy score: 86.86964285714286 %\n",
            "The cost in the 80th iteration is: 0.46901844134031706\n",
            "(1, 56000)\n",
            "The accuracy score: 87.46607142857142 %\n",
            "The cost in the 90th iteration is: 0.44340101921475805\n",
            "(1, 56000)\n",
            "The accuracy score: 87.97321428571429 %\n",
            "The cost in the 100th iteration is: 0.4230527723326087\n",
            "(1, 56000)\n",
            "The accuracy score: 88.35178571428571 %\n",
            "The cost in the 110th iteration is: 0.4063831394040054\n",
            "(1, 56000)\n",
            "The accuracy score: 88.66964285714286 %\n",
            "The cost in the 120th iteration is: 0.39238900126711856\n",
            "(1, 56000)\n",
            "The accuracy score: 88.95178571428572 %\n",
            "The cost in the 130th iteration is: 0.38039686597286426\n",
            "(1, 56000)\n",
            "The accuracy score: 89.25178571428572 %\n",
            "The cost in the 140th iteration is: 0.369936784502858\n",
            "(1, 56000)\n",
            "The accuracy score: 89.5 %\n",
            "The cost in the 150th iteration is: 0.36067613884937366\n",
            "(1, 56000)\n",
            "The accuracy score: 89.74642857142857 %\n",
            "The cost in the 160th iteration is: 0.35238600139958715\n",
            "(1, 56000)\n",
            "The accuracy score: 89.93214285714286 %\n",
            "The cost in the 170th iteration is: 0.34488324915296587\n",
            "(1, 56000)\n",
            "The accuracy score: 90.12678571428572 %\n",
            "The cost in the 180th iteration is: 0.3380289899856791\n",
            "(1, 56000)\n",
            "The accuracy score: 90.30357142857143 %\n",
            "The cost in the 190th iteration is: 0.33173245650659156\n",
            "(1, 56000)\n",
            "The accuracy score: 90.48035714285714 %\n",
            "The cost in the 200th iteration is: 0.325905229039836\n",
            "(1, 56000)\n",
            "The accuracy score: 90.6625 %\n",
            "The cost in the 210th iteration is: 0.3204809291695017\n",
            "(1, 56000)\n",
            "The accuracy score: 90.80178571428571 %\n",
            "The cost in the 220th iteration is: 0.31538927171333125\n",
            "(1, 56000)\n",
            "The accuracy score: 90.95535714285714 %\n",
            "The cost in the 230th iteration is: 0.3105951137729269\n",
            "(1, 56000)\n",
            "The accuracy score: 91.06964285714285 %\n",
            "The cost in the 240th iteration is: 0.30607212252014976\n",
            "(1, 56000)\n",
            "The accuracy score: 91.18392857142858 %\n",
            "The cost in the 250th iteration is: 0.30179171226281726\n",
            "(1, 56000)\n",
            "The accuracy score: 91.35892857142856 %\n",
            "The cost in the 260th iteration is: 0.29772994120631024\n",
            "(1, 56000)\n",
            "The accuracy score: 91.47857142857143 %\n",
            "The cost in the 270th iteration is: 0.29386653823979814\n",
            "(1, 56000)\n",
            "The accuracy score: 91.56964285714285 %\n",
            "The cost in the 280th iteration is: 0.290174009050044\n",
            "(1, 56000)\n",
            "The accuracy score: 91.66250000000001 %\n",
            "The cost in the 290th iteration is: 0.2866349327013977\n",
            "(1, 56000)\n",
            "The accuracy score: 91.78214285714286 %\n",
            "The cost in the 300th iteration is: 0.2832362897411265\n",
            "(1, 56000)\n",
            "The accuracy score: 91.85714285714286 %\n",
            "The cost in the 310th iteration is: 0.27996862467069294\n",
            "(1, 56000)\n",
            "The accuracy score: 91.95 %\n",
            "The cost in the 320th iteration is: 0.27682418269994213\n",
            "(1, 56000)\n",
            "The accuracy score: 92.04107142857143 %\n",
            "The cost in the 330th iteration is: 0.27379386704169545\n",
            "(1, 56000)\n",
            "The accuracy score: 92.10714285714286 %\n",
            "The cost in the 340th iteration is: 0.27086381947075344\n",
            "(1, 56000)\n",
            "The accuracy score: 92.2 %\n",
            "The cost in the 350th iteration is: 0.26802899442266404\n",
            "(1, 56000)\n",
            "The accuracy score: 92.28035714285714 %\n",
            "The cost in the 360th iteration is: 0.26528053721669853\n",
            "(1, 56000)\n",
            "The accuracy score: 92.35892857142856 %\n",
            "The cost in the 370th iteration is: 0.2626142297607613\n",
            "(1, 56000)\n",
            "The accuracy score: 92.41785714285714 %\n",
            "The cost in the 380th iteration is: 0.26002529657087037\n",
            "(1, 56000)\n",
            "The accuracy score: 92.48571428571428 %\n",
            "The cost in the 390th iteration is: 0.2575122844600247\n",
            "(1, 56000)\n",
            "The accuracy score: 92.52678571428572 %\n",
            "The cost in the 400th iteration is: 0.2550644777723016\n",
            "(1, 56000)\n",
            "The accuracy score: 92.61428571428571 %\n",
            "The cost in the 410th iteration is: 0.252681827337433\n",
            "(1, 56000)\n",
            "The accuracy score: 92.66785714285714 %\n",
            "The cost in the 420th iteration is: 0.25035748057657603\n",
            "(1, 56000)\n",
            "The accuracy score: 92.76071428571429 %\n",
            "The cost in the 430th iteration is: 0.24809118948150527\n",
            "(1, 56000)\n",
            "The accuracy score: 92.81428571428572 %\n",
            "The cost in the 440th iteration is: 0.24588153159647874\n",
            "(1, 56000)\n",
            "The accuracy score: 92.86428571428571 %\n",
            "The cost in the 450th iteration is: 0.24372742613097817\n",
            "(1, 56000)\n",
            "The accuracy score: 92.93214285714285 %\n",
            "The cost in the 460th iteration is: 0.24162258596270325\n",
            "(1, 56000)\n",
            "The accuracy score: 93.01071428571429 %\n",
            "The cost in the 470th iteration is: 0.23956631691268618\n",
            "(1, 56000)\n",
            "The accuracy score: 93.05892857142857 %\n",
            "The cost in the 480th iteration is: 0.2375583314904207\n",
            "(1, 56000)\n",
            "The accuracy score: 93.11785714285715 %\n",
            "The cost in the 490th iteration is: 0.23558906970375484\n",
            "(1, 56000)\n",
            "The accuracy score: 93.16250000000001 %\n",
            "The cost in the 500th iteration is: 0.23365962854164726\n",
            "(1, 56000)\n",
            "The accuracy score: 93.23214285714285 %\n",
            "The cost in the 510th iteration is: 0.23176804897410702\n",
            "(1, 56000)\n",
            "The accuracy score: 93.29285714285714 %\n",
            "The cost in the 520th iteration is: 0.22991258435936135\n",
            "(1, 56000)\n",
            "The accuracy score: 93.35535714285714 %\n",
            "The cost in the 530th iteration is: 0.22809244083712232\n",
            "(1, 56000)\n",
            "The accuracy score: 93.40714285714286 %\n",
            "The cost in the 540th iteration is: 0.22630559357913532\n",
            "(1, 56000)\n",
            "The accuracy score: 93.45892857142857 %\n",
            "The cost in the 550th iteration is: 0.22455231739992335\n",
            "(1, 56000)\n",
            "The accuracy score: 93.51964285714286 %\n",
            "The cost in the 560th iteration is: 0.22283226012707322\n",
            "(1, 56000)\n",
            "The accuracy score: 93.55714285714286 %\n",
            "The cost in the 570th iteration is: 0.2211449446765082\n",
            "(1, 56000)\n",
            "The accuracy score: 93.60357142857143 %\n",
            "The cost in the 580th iteration is: 0.2194857875629434\n",
            "(1, 56000)\n",
            "The accuracy score: 93.66071428571429 %\n",
            "The cost in the 590th iteration is: 0.21785347783404724\n",
            "(1, 56000)\n",
            "The accuracy score: 93.70357142857144 %\n",
            "The cost in the 600th iteration is: 0.2162506508550603\n",
            "(1, 56000)\n",
            "The accuracy score: 93.7642857142857 %\n",
            "The cost in the 610th iteration is: 0.21467331237082604\n",
            "(1, 56000)\n",
            "The accuracy score: 93.82321428571429 %\n",
            "The cost in the 620th iteration is: 0.21312233138211534\n",
            "(1, 56000)\n",
            "The accuracy score: 93.86964285714285 %\n",
            "The cost in the 630th iteration is: 0.2115971288883159\n",
            "(1, 56000)\n",
            "The accuracy score: 93.90714285714286 %\n",
            "The cost in the 640th iteration is: 0.21009565965855476\n",
            "(1, 56000)\n",
            "The accuracy score: 93.94464285714285 %\n",
            "The cost in the 650th iteration is: 0.20861989231456513\n",
            "(1, 56000)\n",
            "The accuracy score: 93.98571428571428 %\n",
            "The cost in the 660th iteration is: 0.20716770901977946\n",
            "(1, 56000)\n",
            "The accuracy score: 94.03214285714286 %\n",
            "The cost in the 670th iteration is: 0.20573745539329588\n",
            "(1, 56000)\n",
            "The accuracy score: 94.10357142857143 %\n",
            "The cost in the 680th iteration is: 0.20433064244053759\n",
            "(1, 56000)\n",
            "The accuracy score: 94.15714285714286 %\n",
            "The cost in the 690th iteration is: 0.20294545334639416\n",
            "(1, 56000)\n",
            "The accuracy score: 94.1875 %\n",
            "The cost in the 700th iteration is: 0.20158124668145835\n",
            "(1, 56000)\n",
            "The accuracy score: 94.21428571428572 %\n",
            "The cost in the 710th iteration is: 0.20023584159355554\n",
            "(1, 56000)\n",
            "The accuracy score: 94.25 %\n",
            "The cost in the 720th iteration is: 0.19891078085202948\n",
            "(1, 56000)\n",
            "The accuracy score: 94.28035714285714 %\n",
            "The cost in the 730th iteration is: 0.19760387736578566\n",
            "(1, 56000)\n",
            "The accuracy score: 94.31607142857142 %\n",
            "The cost in the 740th iteration is: 0.19631426290687695\n",
            "(1, 56000)\n",
            "The accuracy score: 94.35892857142856 %\n",
            "The cost in the 750th iteration is: 0.19504313266978857\n",
            "(1, 56000)\n",
            "The accuracy score: 94.39642857142857 %\n",
            "The cost in the 760th iteration is: 0.19379144277281965\n",
            "(1, 56000)\n",
            "The accuracy score: 94.43392857142857 %\n",
            "The cost in the 770th iteration is: 0.19255565689232904\n",
            "(1, 56000)\n",
            "The accuracy score: 94.45714285714286 %\n",
            "The cost in the 780th iteration is: 0.19133614496620951\n",
            "(1, 56000)\n",
            "The accuracy score: 94.48392857142856 %\n",
            "The cost in the 790th iteration is: 0.1901338137683828\n",
            "(1, 56000)\n",
            "The accuracy score: 94.50357142857143 %\n",
            "The cost in the 800th iteration is: 0.1889496005334057\n",
            "(1, 56000)\n",
            "The accuracy score: 94.54107142857143 %\n",
            "The cost in the 810th iteration is: 0.1877805477878246\n",
            "(1, 56000)\n",
            "The accuracy score: 94.5625 %\n",
            "The cost in the 820th iteration is: 0.1866257821382523\n",
            "(1, 56000)\n",
            "The accuracy score: 94.61071428571428 %\n",
            "The cost in the 830th iteration is: 0.18548623487289334\n",
            "(1, 56000)\n",
            "The accuracy score: 94.63571428571429 %\n",
            "The cost in the 840th iteration is: 0.18436108800888534\n",
            "(1, 56000)\n",
            "The accuracy score: 94.65892857142858 %\n",
            "The cost in the 850th iteration is: 0.18325218398193902\n",
            "(1, 56000)\n",
            "The accuracy score: 94.69107142857143 %\n",
            "The cost in the 860th iteration is: 0.18216036217321216\n",
            "(1, 56000)\n",
            "The accuracy score: 94.72857142857143 %\n",
            "The cost in the 870th iteration is: 0.18108417429182605\n",
            "(1, 56000)\n",
            "The accuracy score: 94.76607142857144 %\n",
            "The cost in the 880th iteration is: 0.1800212099262384\n",
            "(1, 56000)\n",
            "The accuracy score: 94.80714285714285 %\n",
            "The cost in the 890th iteration is: 0.17896973626297769\n",
            "(1, 56000)\n",
            "The accuracy score: 94.83035714285715 %\n",
            "The cost in the 900th iteration is: 0.17793033764723662\n",
            "(1, 56000)\n",
            "The accuracy score: 94.85535714285714 %\n",
            "The cost in the 910th iteration is: 0.17690350822303405\n",
            "(1, 56000)\n",
            "The accuracy score: 94.87857142857142 %\n",
            "The cost in the 920th iteration is: 0.17588760122283623\n",
            "(1, 56000)\n",
            "The accuracy score: 94.89642857142857 %\n",
            "The cost in the 930th iteration is: 0.17488347633326196\n",
            "(1, 56000)\n",
            "The accuracy score: 94.92321428571428 %\n",
            "The cost in the 940th iteration is: 0.1738925761058738\n",
            "(1, 56000)\n",
            "The accuracy score: 94.96428571428571 %\n",
            "The cost in the 950th iteration is: 0.1729145683774498\n",
            "(1, 56000)\n",
            "The accuracy score: 94.98928571428571 %\n",
            "The cost in the 960th iteration is: 0.171950631056708\n",
            "(1, 56000)\n",
            "The accuracy score: 95.03035714285714 %\n",
            "The cost in the 970th iteration is: 0.17099991854531932\n",
            "(1, 56000)\n",
            "The accuracy score: 95.05178571428571 %\n",
            "The cost in the 980th iteration is: 0.170061032421317\n",
            "(1, 56000)\n",
            "The accuracy score: 95.09107142857142 %\n",
            "The cost in the 990th iteration is: 0.16913311026990935\n",
            "(1, 56000)\n",
            "The accuracy score: 95.11428571428571 %\n"
          ]
        },
        {
          "output_type": "display_data",
          "data": {
            "text/plain": [
              "<Figure size 640x480 with 1 Axes>"
            ],
            "image/png": "[encoded data removed]"
          },
          "metadata": {}
        }
      ]
    },
    {
      "cell_type": "code",
      "source": [
        "predictions = predict(X_test, weights).reshape(-1)\n",
        "\n",
        "print(predictions.shape)\n",
        "\n",
        "test_score = accuracy_score(Y_test.reshape(-1), predictions)\n",
        "print(f\"The test accuracy is: {test_score*100}%\")\n",
        "\n",
        "conf_mat = confusion_matrix(Y_test.reshape(-1), predictions, normalize = None)\n",
        "\n",
        "print(conf_mat)"
      ],
      "metadata": {
        "colab": {
          "base_uri": "https://localhost:8080/"
        },
        "id": "CFULTw1zpO-q",
        "outputId": "57121eca-a4cd-478f-b4c4-79abb33413af"
      },
      "execution_count": null,
      "outputs": [
        {
          "output_type": "stream",
          "name": "stdout",
          "text": [
            "(14000,)\n",
            "The test accuracy is: 94.8%\n",
            "[[1310    0    3    4    2    7    6    2   12    3]\n",
            " [   0 1550    9    4    1    5    1    2    7    2]\n",
            " [  10   11 1317    9   13    6    4   12   14    4]\n",
            " [   3    2   24 1339    0   30    1    7   19    9]\n",
            " [   1    2    1    0 1269    0    8    3    6   38]\n",
            " [   8    2    6   25    8 1183   19    1   18   16]\n",
            " [   8    1    8    1   12   12 1357    1    7    0]\n",
            " [   5    7   15    5    3    1    1 1413    2   24]\n",
            " [   5   12    8   26    4   18    8    2 1297   11]\n",
            " [   5    5    3   20   32    7    0   25   14 1237]]\n"
          ]
        }
      ]
    },
    {
      "cell_type": "code",
      "source": [],
      "metadata": {
        "id": "lQsRfAW7rrtG"
      },
      "execution_count": null,
      "outputs": []
    }
  ]
}